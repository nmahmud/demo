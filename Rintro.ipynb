{
 "cells": [
  {
   "cell_type": "raw",
   "metadata": {},
   "source": [
    "---\n",
    "title: \"Workshop on R in Data Science\n",
    "always_allow_html: yes\n",
    "output: \n",
    "  html_document:\n",
    "    highlight: tango\n",
    "    toc: true\n",
    "    toc_float:\n",
    "      collapsed: true\n",
    "---"
   ]
  },
  {
   "cell_type": "code",
   "execution_count": null,
   "metadata": {
    "collapsed": true,
    "hide_input": true,
    "results": "'hide'"
   },
   "outputs": [],
   "source": [
    "options(max.print = 100)\n",
    "knitr::opts_chunk$set(message = FALSE)"
   ]
  },
  {
   "cell_type": "markdown",
   "metadata": {},
   "source": [
    "Welcome\n",
    "========\n",
    "\n",
    "Materials and setup \n",
    "-------------------\n",
    "\n",
    "**NOTE: skip this section if you are not running R locally** (e.g., if you are\n",
    "running R in your browser using a remote Jupyter server)\n",
    "\n",
    "You should have R installed --if not:\n",
    "\n",
    "-   Download and install R from http://cran.r-project.org\n",
    "-   Download and install RStudio from https://www.rstudio.com/products/rstudio/download/#download\n",
    "\n",
    "Notes and examples for this workshop are available at \n",
    "[](http://tutorials.iq.harvard.edu/R/Rintro/Rintro.html)\n",
    "\n",
    "Start RStudio create a new project:\n",
    "-   On Windows click the start button and search for rstudio. On Mac\n",
    "    RStudio will be in your applications folder.\n",
    "-   In Rstudio go to `File -> New Project`.\n",
    "-   Choose `New Directory` and `New Project`.\n",
    "-   Choose a name and location for your new project directory.\n",
    "\n",
    "Workshop goals and approach\n",
    "---------------------------\n",
    "\n",
    "In this workshop you will\n",
    "\n",
    "-  learn R basics,\n",
    "-  learn about the R package ecosystem,\n",
    "-  practice reading files and manipulating data in R\n",
    "\n",
    "A more general goal is to get you comfortable with R so that it seems less scary and mystifying than it perhaps does now. Note that this is by no means a complete or thorough introduction to R! It's just enough to get you started.\n",
    "\n",
    "This workshop is relatively informal, example-oriented, and hands-on. We won't spend much time examining language features in detail. Instead we will work through an example, and learn some things about the R  along the way.\n",
    "\n",
    "As an example project we will analyze the popularity of baby names in the US from 1960 through 2017. Among the questions we will use R to answer are:\n",
    "\n",
    "-  In which year did your name achieve peak popularity?\n",
    "-  How many children were born each year?\n",
    "-  What are the most popular names overall? For girls? For Boys?"
   ]
  },
  {
   "cell_type": "markdown",
   "metadata": {
    "lines_to_next_cell": 0
   },
   "source": [
    "Launch RStudio (skip if not using Rstudio)\n",
    "------------------------------------------\n",
    "**Note: skip this section if you are not using Rstudio (e.g., if you are running\n",
    "these examples in a Jupyter notebook).**\n",
    "\n",
    "-   Start the RStudio program\n",
    "-   In RStudio, go to **File =&gt; New File =&gt R Script**\n",
    "\n",
    "The window in the upper-left is your R script. This is where you will\n",
    "write instructions for R to carry out.\n",
    "\n",
    "The window in the lower-left is the R console. This is where results\n",
    "will be displayed.\n",
    "\n",
    "Exercise \n",
    "----------\n",
    "\n",
    "The purpose of this exercise is to give you an opportunity to explore\n",
    "the interface provided by RStudio (or whichever GUI you've decided to\n",
    "use). You may not know how to do these things; that's fine! This is an\n",
    "opportunity to figure it out.\n",
    "\n",
    "Also keep in mind that we are living in a golden age of tab completion.\n",
    "If you don't know the name of an R function, try guessing the first two\n",
    "or three letters and pressing TAB. If you guessed correctly the function\n",
    "you are looking for should appear in a pop up!\n",
    "\n",
    "-------------------------------------------\n",
    "\n",
    "1.  Add 4 and 5 and subtract 4 from 5."
   ]
  },
  {
   "cell_type": "code",
   "execution_count": null,
   "metadata": {
    "collapsed": true,
    "lines_to_next_cell": 0
   },
   "outputs": [],
   "source": [
    "##"
   ]
  },
  {
   "cell_type": "markdown",
   "metadata": {
    "lines_to_next_cell": 0
   },
   "source": [
    "2.  Find the square root of 49."
   ]
  },
  {
   "cell_type": "code",
   "execution_count": null,
   "metadata": {
    "collapsed": true,
    "lines_to_next_cell": 0
   },
   "outputs": [],
   "source": [
    "##"
   ]
  },
  {
   "cell_type": "markdown",
   "metadata": {},
   "source": [
    "3.  R includes extensive documentation, including a manual named \"An\n",
    "    introduction to R\". Use the RStudio help pane. to locate this manual."
   ]
  },
  {
   "cell_type": "markdown",
   "metadata": {},
   "source": []
  },
  {
   "cell_type": "code",
   "execution_count": null,
   "metadata": {
    "collapsed": true,
    "purl": false
   },
   "outputs": [],
   "source": []
  },
  {
   "cell_type": "code",
   "execution_count": null,
   "metadata": {
    "collapsed": true,
    "lines_to_next_cell": 2
   },
   "outputs": [],
   "source": []
  },
  {
   "cell_type": "code",
   "execution_count": null,
   "metadata": {
    "collapsed": true
   },
   "outputs": [],
   "source": [
    "## 3. Find \"An Introduction to R\"."
   ]
  },
  {
   "cell_type": "code",
   "execution_count": null,
   "metadata": {
    "collapsed": true
   },
   "outputs": [],
   "source": [
    "## Go to the main help page by running 'help.start() or using the GUI\n",
    "## menu, find and click on the link to \"An Introduction to R\"."
   ]
  },
  {
   "cell_type": "code",
   "execution_count": null,
   "metadata": {
    "collapsed": true
   },
   "outputs": [],
   "source": []
  },
  {
   "cell_type": "code",
   "execution_count": null,
   "metadata": {
    "collapsed": true
   },
   "outputs": [],
   "source": []
  },
  {
   "cell_type": "markdown",
   "metadata": {},
   "source": [
    "Basics\n",
    "========"
   ]
  },
  {
   "cell_type": "markdown",
   "metadata": {},
   "source": [
    "# Types of variables and tables\n",
    "# 2.1. Variable Types\n",
    "\n",
    "# 2.1.1. Numbers"
   ]
  },
  {
   "cell_type": "markdown",
   "metadata": {},
   "source": [
    "The most basic way to store a number is to make an assignment of a single number:"
   ]
  },
  {
   "cell_type": "code",
   "execution_count": 24,
   "metadata": {
    "collapsed": true
   },
   "outputs": [],
   "source": [
    "a <- 3"
   ]
  },
  {
   "cell_type": "markdown",
   "metadata": {},
   "source": [
    "The “<-” tells R to take the number to the right of the symbol and store it in a variable whose name is given on the left. \n",
    "You can also use the “=” symbol. When you make an assignment R does not print out any information. If you want to see what \n",
    "value a variable has just type the name of the variable on a line and press the enter key:"
   ]
  },
  {
   "cell_type": "code",
   "execution_count": 26,
   "metadata": {},
   "outputs": [
    {
     "data": {
      "text/html": [
       "3"
      ],
      "text/latex": [
       "3"
      ],
      "text/markdown": [
       "3"
      ],
      "text/plain": [
       "[1] 3"
      ]
     },
     "metadata": {},
     "output_type": "display_data"
    }
   ],
   "source": [
    "a"
   ]
  },
  {
   "cell_type": "markdown",
   "metadata": {},
   "source": [
    "This allows you to do all sorts of basic operations and save the numbers:"
   ]
  },
  {
   "cell_type": "code",
   "execution_count": 29,
   "metadata": {
    "collapsed": true
   },
   "outputs": [],
   "source": [
    "b <- sqrt(a*a+3)"
   ]
  },
  {
   "cell_type": "code",
   "execution_count": 30,
   "metadata": {},
   "outputs": [
    {
     "data": {
      "text/html": [
       "3.46410161513775"
      ],
      "text/latex": [
       "3.46410161513775"
      ],
      "text/markdown": [
       "3.46410161513775"
      ],
      "text/plain": [
       "[1] 3.464102"
      ]
     },
     "metadata": {},
     "output_type": "display_data"
    }
   ],
   "source": [
    "b"
   ]
  },
  {
   "cell_type": "markdown",
   "metadata": {},
   "source": [
    "If you want to get a list of the variables that you have defined in a particular session you can list them all using the ls command:"
   ]
  },
  {
   "cell_type": "code",
   "execution_count": 31,
   "metadata": {},
   "outputs": [
    {
     "data": {
      "text/html": [
       "<ol class=list-inline>\n",
       "\t<li>'a'</li>\n",
       "\t<li>'b'</li>\n",
       "\t<li>'c'</li>\n",
       "</ol>\n"
      ],
      "text/latex": [
       "\\begin{enumerate*}\n",
       "\\item 'a'\n",
       "\\item 'b'\n",
       "\\item 'c'\n",
       "\\end{enumerate*}\n"
      ],
      "text/markdown": [
       "1. 'a'\n",
       "2. 'b'\n",
       "3. 'c'\n",
       "\n",
       "\n"
      ],
      "text/plain": [
       "[1] \"a\" \"b\" \"c\""
      ]
     },
     "metadata": {},
     "output_type": "display_data"
    }
   ],
   "source": [
    "ls()"
   ]
  },
  {
   "cell_type": "markdown",
   "metadata": {},
   "source": [
    "You are not limited to just saving a single number. You can create a list (also called a “vector”) using the c command:"
   ]
  },
  {
   "cell_type": "code",
   "execution_count": 33,
   "metadata": {
    "collapsed": true
   },
   "outputs": [],
   "source": [
    "a <- c(1,2,3,4,5)"
   ]
  },
  {
   "cell_type": "code",
   "execution_count": 34,
   "metadata": {},
   "outputs": [
    {
     "data": {
      "text/html": [
       "<ol class=list-inline>\n",
       "\t<li>1</li>\n",
       "\t<li>2</li>\n",
       "\t<li>3</li>\n",
       "\t<li>4</li>\n",
       "\t<li>5</li>\n",
       "</ol>\n"
      ],
      "text/latex": [
       "\\begin{enumerate*}\n",
       "\\item 1\n",
       "\\item 2\n",
       "\\item 3\n",
       "\\item 4\n",
       "\\item 5\n",
       "\\end{enumerate*}\n"
      ],
      "text/markdown": [
       "1. 1\n",
       "2. 2\n",
       "3. 3\n",
       "4. 4\n",
       "5. 5\n",
       "\n",
       "\n"
      ],
      "text/plain": [
       "[1] 1 2 3 4 5"
      ]
     },
     "metadata": {},
     "output_type": "display_data"
    },
    {
     "data": {
      "text/html": [
       "<ol class=list-inline>\n",
       "\t<li>2</li>\n",
       "\t<li>3</li>\n",
       "\t<li>4</li>\n",
       "\t<li>5</li>\n",
       "\t<li>6</li>\n",
       "</ol>\n"
      ],
      "text/latex": [
       "\\begin{enumerate*}\n",
       "\\item 2\n",
       "\\item 3\n",
       "\\item 4\n",
       "\\item 5\n",
       "\\item 6\n",
       "\\end{enumerate*}\n"
      ],
      "text/markdown": [
       "1. 2\n",
       "2. 3\n",
       "3. 4\n",
       "4. 5\n",
       "5. 6\n",
       "\n",
       "\n"
      ],
      "text/plain": [
       "[1] 2 3 4 5 6"
      ]
     },
     "metadata": {},
     "output_type": "display_data"
    }
   ],
   "source": [
    "a\n",
    "a+1"
   ]
  },
  {
   "cell_type": "code",
   "execution_count": 35,
   "metadata": {},
   "outputs": [
    {
     "data": {
      "text/html": [
       "3"
      ],
      "text/latex": [
       "3"
      ],
      "text/markdown": [
       "3"
      ],
      "text/plain": [
       "[1] 3"
      ]
     },
     "metadata": {},
     "output_type": "display_data"
    },
    {
     "data": {
      "text/html": [
       "2.5"
      ],
      "text/latex": [
       "2.5"
      ],
      "text/markdown": [
       "2.5"
      ],
      "text/plain": [
       "[1] 2.5"
      ]
     },
     "metadata": {},
     "output_type": "display_data"
    }
   ],
   "source": [
    "mean(a)\n",
    "var(a)"
   ]
  },
  {
   "cell_type": "markdown",
   "metadata": {},
   "source": [
    "You can get access to particular entries in the vector in the following manner:\n"
   ]
  },
  {
   "cell_type": "code",
   "execution_count": 37,
   "metadata": {},
   "outputs": [
    {
     "data": {
      "text/html": [
       "1"
      ],
      "text/latex": [
       "1"
      ],
      "text/markdown": [
       "1"
      ],
      "text/plain": [
       "[1] 1"
      ]
     },
     "metadata": {},
     "output_type": "display_data"
    },
    {
     "data": {
      "text/html": [],
      "text/latex": [],
      "text/markdown": [],
      "text/plain": [
       "numeric(0)"
      ]
     },
     "metadata": {},
     "output_type": "display_data"
    }
   ],
   "source": [
    "a[1]"
   ]
  },
  {
   "cell_type": "code",
   "execution_count": 40,
   "metadata": {},
   "outputs": [
    {
     "data": {
      "text/html": [],
      "text/latex": [],
      "text/markdown": [],
      "text/plain": [
       "numeric(0)"
      ]
     },
     "metadata": {},
     "output_type": "display_data"
    }
   ],
   "source": [
    "a[0]"
   ]
  },
  {
   "cell_type": "code",
   "execution_count": 39,
   "metadata": {},
   "outputs": [
    {
     "data": {
      "text/html": [
       "&lt;NA&gt;"
      ],
      "text/latex": [
       "<NA>"
      ],
      "text/markdown": [
       "&lt;NA&gt;"
      ],
      "text/plain": [
       "[1] NA"
      ]
     },
     "metadata": {},
     "output_type": "display_data"
    }
   ],
   "source": [
    "a[6]"
   ]
  },
  {
   "cell_type": "markdown",
   "metadata": {},
   "source": [
    "Note that the zero entry is used to indicate how the data is stored. The first entry in the vector is the first number, and if \n",
    "you try to get a number past the last number you get “NA.”\n"
   ]
  },
  {
   "cell_type": "markdown",
   "metadata": {},
   "source": [
    "To initialize a list of numbers the numeric command can be used. For example, to create a list of 10 numbers, initialized to \n",
    "zero, use the following command:\n"
   ]
  },
  {
   "cell_type": "code",
   "execution_count": 42,
   "metadata": {},
   "outputs": [
    {
     "data": {
      "text/html": [
       "<ol class=list-inline>\n",
       "\t<li>0</li>\n",
       "\t<li>0</li>\n",
       "\t<li>0</li>\n",
       "\t<li>0</li>\n",
       "\t<li>0</li>\n",
       "\t<li>0</li>\n",
       "\t<li>0</li>\n",
       "\t<li>0</li>\n",
       "\t<li>0</li>\n",
       "\t<li>0</li>\n",
       "</ol>\n"
      ],
      "text/latex": [
       "\\begin{enumerate*}\n",
       "\\item 0\n",
       "\\item 0\n",
       "\\item 0\n",
       "\\item 0\n",
       "\\item 0\n",
       "\\item 0\n",
       "\\item 0\n",
       "\\item 0\n",
       "\\item 0\n",
       "\\item 0\n",
       "\\end{enumerate*}\n"
      ],
      "text/markdown": [
       "1. 0\n",
       "2. 0\n",
       "3. 0\n",
       "4. 0\n",
       "5. 0\n",
       "6. 0\n",
       "7. 0\n",
       "8. 0\n",
       "9. 0\n",
       "10. 0\n",
       "\n",
       "\n"
      ],
      "text/plain": [
       " [1] 0 0 0 0 0 0 0 0 0 0"
      ]
     },
     "metadata": {},
     "output_type": "display_data"
    }
   ],
   "source": [
    "a <- numeric(10)\n",
    "a"
   ]
  },
  {
   "cell_type": "markdown",
   "metadata": {},
   "source": [
    "If you wish to determine the data type used for a variable the type command:"
   ]
  },
  {
   "cell_type": "code",
   "execution_count": 43,
   "metadata": {},
   "outputs": [
    {
     "data": {
      "text/html": [
       "'double'"
      ],
      "text/latex": [
       "'double'"
      ],
      "text/markdown": [
       "'double'"
      ],
      "text/plain": [
       "[1] \"double\""
      ]
     },
     "metadata": {},
     "output_type": "display_data"
    }
   ],
   "source": [
    "typeof(a)"
   ]
  },
  {
   "cell_type": "markdown",
   "metadata": {},
   "source": [
    "# 2.1.2. Strings\n",
    "You are not limited to just storing numbers. You can also store strings/character variables. A string is specified by using quotes. Both single and double quotes will work:"
   ]
  },
  {
   "cell_type": "code",
   "execution_count": 47,
   "metadata": {},
   "outputs": [
    {
     "data": {
      "text/html": [
       "'hello'"
      ],
      "text/latex": [
       "'hello'"
      ],
      "text/markdown": [
       "'hello'"
      ],
      "text/plain": [
       "[1] \"hello\""
      ]
     },
     "metadata": {},
     "output_type": "display_data"
    },
    {
     "data": {
      "text/html": [
       "<ol class=list-inline>\n",
       "\t<li>'hello'</li>\n",
       "\t<li>'world'</li>\n",
       "</ol>\n"
      ],
      "text/latex": [
       "\\begin{enumerate*}\n",
       "\\item 'hello'\n",
       "\\item 'world'\n",
       "\\end{enumerate*}\n"
      ],
      "text/markdown": [
       "1. 'hello'\n",
       "2. 'world'\n",
       "\n",
       "\n"
      ],
      "text/plain": [
       "[1] \"hello\" \"world\""
      ]
     },
     "metadata": {},
     "output_type": "display_data"
    },
    {
     "data": {
      "text/html": [
       "'hello'"
      ],
      "text/latex": [
       "'hello'"
      ],
      "text/markdown": [
       "'hello'"
      ],
      "text/plain": [
       "[1] \"hello\""
      ]
     },
     "metadata": {},
     "output_type": "display_data"
    }
   ],
   "source": [
    "a <- \"hello\"\n",
    "a\n",
    "b <- c(\"hello\",\"world\")\n",
    "b\n",
    "b[1]"
   ]
  },
  {
   "cell_type": "markdown",
   "metadata": {},
   "source": [
    "The name of the type given to strings is character,"
   ]
  },
  {
   "cell_type": "code",
   "execution_count": 48,
   "metadata": {},
   "outputs": [
    {
     "data": {
      "text/html": [
       "'character'"
      ],
      "text/latex": [
       "'character'"
      ],
      "text/markdown": [
       "'character'"
      ],
      "text/plain": [
       "[1] \"character\""
      ]
     },
     "metadata": {},
     "output_type": "display_data"
    }
   ],
   "source": [
    "typeof(a)"
   ]
  },
  {
   "cell_type": "code",
   "execution_count": 50,
   "metadata": {},
   "outputs": [
    {
     "data": {
      "text/html": [
       "<ol class=list-inline>\n",
       "\t<li>''</li>\n",
       "\t<li>''</li>\n",
       "\t<li>''</li>\n",
       "\t<li>''</li>\n",
       "\t<li>''</li>\n",
       "\t<li>''</li>\n",
       "\t<li>''</li>\n",
       "\t<li>''</li>\n",
       "\t<li>''</li>\n",
       "\t<li>''</li>\n",
       "\t<li>''</li>\n",
       "\t<li>''</li>\n",
       "\t<li>''</li>\n",
       "\t<li>''</li>\n",
       "\t<li>''</li>\n",
       "\t<li>''</li>\n",
       "\t<li>''</li>\n",
       "\t<li>''</li>\n",
       "\t<li>''</li>\n",
       "\t<li>''</li>\n",
       "</ol>\n"
      ],
      "text/latex": [
       "\\begin{enumerate*}\n",
       "\\item ''\n",
       "\\item ''\n",
       "\\item ''\n",
       "\\item ''\n",
       "\\item ''\n",
       "\\item ''\n",
       "\\item ''\n",
       "\\item ''\n",
       "\\item ''\n",
       "\\item ''\n",
       "\\item ''\n",
       "\\item ''\n",
       "\\item ''\n",
       "\\item ''\n",
       "\\item ''\n",
       "\\item ''\n",
       "\\item ''\n",
       "\\item ''\n",
       "\\item ''\n",
       "\\item ''\n",
       "\\end{enumerate*}\n"
      ],
      "text/markdown": [
       "1. ''\n",
       "2. ''\n",
       "3. ''\n",
       "4. ''\n",
       "5. ''\n",
       "6. ''\n",
       "7. ''\n",
       "8. ''\n",
       "9. ''\n",
       "10. ''\n",
       "11. ''\n",
       "12. ''\n",
       "13. ''\n",
       "14. ''\n",
       "15. ''\n",
       "16. ''\n",
       "17. ''\n",
       "18. ''\n",
       "19. ''\n",
       "20. ''\n",
       "\n",
       "\n"
      ],
      "text/plain": [
       " [1] \"\" \"\" \"\" \"\" \"\" \"\" \"\" \"\" \"\" \"\" \"\" \"\" \"\" \"\" \"\" \"\" \"\" \"\" \"\" \"\""
      ]
     },
     "metadata": {},
     "output_type": "display_data"
    }
   ],
   "source": [
    "a = character(20)\n",
    "a"
   ]
  },
  {
   "cell_type": "markdown",
   "metadata": {},
   "source": [
    "# 2.1.3. Factors\n",
    "Another important way R can store data is as a factor. Often times an experiment includes trials for different levels of some explanatory variable. For example, when looking at the impact of carbon dioxide on the growth rate of a tree you might try to observe how different trees grow when exposed to different preset concentrations of carbon dioxide. The different levels are also called factors.\n",
    "\n",
    "Assuming you know how to read in a file, we will look at the data file given in the first chapter. Several of the variables in the file are factors:\n"
   ]
  },
  {
   "cell_type": "markdown",
   "metadata": {},
   "source": [
    "summary(tree$CHBR)\n",
    "\n",
    "\n",
    "A1  A2  A3  A4  A5  A6  A7  B1  B2  B3  B4  B5  B6  B7  C1  C2  C3  C4  C5  C6\n",
    "3   1   1   3   1   3   1   1   3   3   3   3   3   3   1   3   1   3   1   1\n",
    "C7 CL6 CL7  D1  D2  D3  D4  D5  D6  D7\n",
    "1   1   1   1   1   3   1   1   1   1"
   ]
  },
  {
   "cell_type": "markdown",
   "metadata": {},
   "source": [
    "Because the set of options given in the data file corresponding to the “CHBR” column are not all numbers R automatically assumes that it is a factor. When you use summary on a factor it does not print out the five point summary, rather it prints out the possible values and the frequency that they occur.\n",
    "\n",
    "In this data set several of the columns are factors, but the researchers used numbers to indicate the different levels. For example, the first column, labeled “C,” is a factor. Each trees was grown in an environment with one of four different possible levels of carbon dioxide. The researchers quite sensibly labeled these four environments as 1, 2, 3, and 4. Unfortunately, R cannot determine that these are factors and must assume that they are regular numbers.\n",
    "\n",
    "This is a common problem and there is a way to tell R to treat the “C” column as a set of factors. You specify that a variable is a factor using the factor command. In the following example we convert tree$C into a factor:"
   ]
  },
  {
   "cell_type": "code",
   "execution_count": 53,
   "metadata": {},
   "outputs": [
    {
     "ename": "ERROR",
     "evalue": "Error in eval(expr, envir, enclos): object 'tree' not found\n",
     "output_type": "error",
     "traceback": [
      "Error in eval(expr, envir, enclos): object 'tree' not found\nTraceback:\n"
     ]
    }
   ],
   "source": [
    "tree$C\n",
    "summary(tree$C)"
   ]
  },
  {
   "cell_type": "code",
   "execution_count": 57,
   "metadata": {},
   "outputs": [
    {
     "ename": "ERROR",
     "evalue": "Error in factor(tree$C): object 'tree' not found\n",
     "output_type": "error",
     "traceback": [
      "Error in factor(tree$C): object 'tree' not found\nTraceback:\n",
      "1. factor(tree$C)"
     ]
    }
   ],
   "source": [
    "tree$C <- factor(tree$C)\n",
    "tree$C\n",
    "summary(tree$C)\n",
    "levels(tree$C)"
   ]
  },
  {
   "cell_type": "markdown",
   "metadata": {},
   "source": [
    "Once a vector is converted into a set of factors then R treats it differently. A set of factors have a discrete set of possible values, and it does not make sense to try to find averages or other numerical descriptions. One thing that is important is the number of times that each factor appears, called their “frequencies,” which is printed using the summary command.\n"
   ]
  },
  {
   "cell_type": "markdown",
   "metadata": {},
   "source": [
    "# 2.1.4. Data Frames\n",
    "Another way that information is stored is in data frames. This is a way to take many vectors of different types and store them in the same variable. The vectors can be of all different types. For example, a data frame may contain many lists, and each list might be a list of factors, strings, or numbers.\n",
    "\n",
    "There are different ways to create and manipulate data frames. Most are beyond the scope of this introduction. They are only mentioned here to offer a more complete description. Please see the first chapter for more information on data frames.\n",
    "\n",
    "One example of how to create a data frame is given below:"
   ]
  },
  {
   "cell_type": "code",
   "execution_count": 58,
   "metadata": {},
   "outputs": [
    {
     "data": {
      "text/html": [
       "<table>\n",
       "<thead><tr><th scope=col>first</th><th scope=col>second</th><th scope=col>f</th></tr></thead>\n",
       "<tbody>\n",
       "\t<tr><td>1</td><td>2</td><td>A</td></tr>\n",
       "\t<tr><td>2</td><td>4</td><td>B</td></tr>\n",
       "\t<tr><td>3</td><td>6</td><td>A</td></tr>\n",
       "\t<tr><td>4</td><td>8</td><td>B</td></tr>\n",
       "</tbody>\n",
       "</table>\n"
      ],
      "text/latex": [
       "\\begin{tabular}{r|lll}\n",
       " first & second & f\\\\\n",
       "\\hline\n",
       "\t 1 & 2 & A\\\\\n",
       "\t 2 & 4 & B\\\\\n",
       "\t 3 & 6 & A\\\\\n",
       "\t 4 & 8 & B\\\\\n",
       "\\end{tabular}\n"
      ],
      "text/markdown": [
       "\n",
       "| first | second | f |\n",
       "|---|---|---|\n",
       "| 1 | 2 | A |\n",
       "| 2 | 4 | B |\n",
       "| 3 | 6 | A |\n",
       "| 4 | 8 | B |\n",
       "\n"
      ],
      "text/plain": [
       "  first second f\n",
       "1 1     2      A\n",
       "2 2     4      B\n",
       "3 3     6      A\n",
       "4 4     8      B"
      ]
     },
     "metadata": {},
     "output_type": "display_data"
    }
   ],
   "source": [
    "a <- c(1,2,3,4)\n",
    "b <- c(2,4,6,8)\n",
    "levels <- factor(c(\"A\",\"B\",\"A\",\"B\"))\n",
    "both <- data.frame(first=a,\n",
    "                      second=b,\n",
    "                      f=levels)\n",
    "both"
   ]
  },
  {
   "cell_type": "code",
   "execution_count": 59,
   "metadata": {},
   "outputs": [
    {
     "data": {
      "text/plain": [
       "     first          second    f    \n",
       " Min.   :1.00   Min.   :2.0   A:2  \n",
       " 1st Qu.:1.75   1st Qu.:3.5   B:2  \n",
       " Median :2.50   Median :5.0        \n",
       " Mean   :2.50   Mean   :5.0        \n",
       " 3rd Qu.:3.25   3rd Qu.:6.5        \n",
       " Max.   :4.00   Max.   :8.0        "
      ]
     },
     "metadata": {},
     "output_type": "display_data"
    }
   ],
   "source": [
    "summary(both)"
   ]
  },
  {
   "cell_type": "code",
   "execution_count": 62,
   "metadata": {},
   "outputs": [
    {
     "data": {
      "text/html": [
       "<ol class=list-inline>\n",
       "\t<li>1</li>\n",
       "\t<li>2</li>\n",
       "\t<li>3</li>\n",
       "\t<li>4</li>\n",
       "</ol>\n"
      ],
      "text/latex": [
       "\\begin{enumerate*}\n",
       "\\item 1\n",
       "\\item 2\n",
       "\\item 3\n",
       "\\item 4\n",
       "\\end{enumerate*}\n"
      ],
      "text/markdown": [
       "1. 1\n",
       "2. 2\n",
       "3. 3\n",
       "4. 4\n",
       "\n",
       "\n"
      ],
      "text/plain": [
       "[1] 1 2 3 4"
      ]
     },
     "metadata": {},
     "output_type": "display_data"
    },
    {
     "data": {
      "text/html": [
       "<ol class=list-inline>\n",
       "\t<li>2</li>\n",
       "\t<li>4</li>\n",
       "\t<li>6</li>\n",
       "\t<li>8</li>\n",
       "</ol>\n"
      ],
      "text/latex": [
       "\\begin{enumerate*}\n",
       "\\item 2\n",
       "\\item 4\n",
       "\\item 6\n",
       "\\item 8\n",
       "\\end{enumerate*}\n"
      ],
      "text/markdown": [
       "1. 2\n",
       "2. 4\n",
       "3. 6\n",
       "4. 8\n",
       "\n",
       "\n"
      ],
      "text/plain": [
       "[1] 2 4 6 8"
      ]
     },
     "metadata": {},
     "output_type": "display_data"
    },
    {
     "data": {
      "text/html": [
       "<ol class=list-inline>\n",
       "\t<li>A</li>\n",
       "\t<li>B</li>\n",
       "\t<li>A</li>\n",
       "\t<li>B</li>\n",
       "</ol>\n",
       "\n",
       "<details>\n",
       "\t<summary style=display:list-item;cursor:pointer>\n",
       "\t\t<strong>Levels</strong>:\n",
       "\t</summary>\n",
       "\t<ol class=list-inline>\n",
       "\t\t<li>'A'</li>\n",
       "\t\t<li>'B'</li>\n",
       "\t</ol>\n",
       "</details>"
      ],
      "text/latex": [
       "\\begin{enumerate*}\n",
       "\\item A\n",
       "\\item B\n",
       "\\item A\n",
       "\\item B\n",
       "\\end{enumerate*}\n",
       "\n",
       "\\emph{Levels}: \\begin{enumerate*}\n",
       "\\item 'A'\n",
       "\\item 'B'\n",
       "\\end{enumerate*}\n"
      ],
      "text/markdown": [
       "1. A\n",
       "2. B\n",
       "3. A\n",
       "4. B\n",
       "\n",
       "\n",
       "\n",
       "**Levels**: 1. 'A'\n",
       "2. 'B'\n",
       "\n",
       "\n"
      ],
      "text/plain": [
       "[1] A B A B\n",
       "Levels: A B"
      ]
     },
     "metadata": {},
     "output_type": "display_data"
    }
   ],
   "source": [
    "both$first\n",
    "both$second\n",
    "both$f"
   ]
  },
  {
   "cell_type": "markdown",
   "metadata": {},
   "source": [
    "# 2.1.5. Logical\n",
    "Another important data type is the logical type. There are two predefined variables, TRUE and FALSE:\n"
   ]
  },
  {
   "cell_type": "code",
   "execution_count": 64,
   "metadata": {},
   "outputs": [
    {
     "data": {
      "text/html": [
       "'logical'"
      ],
      "text/latex": [
       "'logical'"
      ],
      "text/markdown": [
       "'logical'"
      ],
      "text/plain": [
       "[1] \"logical\""
      ]
     },
     "metadata": {},
     "output_type": "display_data"
    },
    {
     "data": {
      "text/html": [
       "'logical'"
      ],
      "text/latex": [
       "'logical'"
      ],
      "text/markdown": [
       "'logical'"
      ],
      "text/plain": [
       "[1] \"logical\""
      ]
     },
     "metadata": {},
     "output_type": "display_data"
    }
   ],
   "source": [
    "a = TRUE\n",
    "typeof(a)\n",
    "b = FALSE\n",
    "typeof(b)"
   ]
  },
  {
   "cell_type": "code",
   "execution_count": null,
   "metadata": {
    "collapsed": true
   },
   "outputs": [],
   "source": [
    "The standard logical operators can be used:\n",
    "\n",
    "<\tless than\n",
    ">\tgreat than\n",
    "<=\tless than or equal\n",
    ">=\tgreater than or equal\n",
    "==\tequal to\n",
    "!=\tnot equal to\n",
    "|\tentry wise or\n",
    "||\tor\n",
    "!\tnot\n",
    "&\tentry wise and\n",
    "&&\tand\n",
    "xor(a,b)\texclusive or\n",
    "Note that there is a difference between operators that act on entries within a vector and the whole vector:"
   ]
  },
  {
   "cell_type": "code",
   "execution_count": 67,
   "metadata": {},
   "outputs": [
    {
     "data": {
      "text/html": [
       "<ol class=list-inline>\n",
       "\t<li>TRUE</li>\n",
       "\t<li>FALSE</li>\n",
       "</ol>\n"
      ],
      "text/latex": [
       "\\begin{enumerate*}\n",
       "\\item TRUE\n",
       "\\item FALSE\n",
       "\\end{enumerate*}\n"
      ],
      "text/markdown": [
       "1. TRUE\n",
       "2. FALSE\n",
       "\n",
       "\n"
      ],
      "text/plain": [
       "[1]  TRUE FALSE"
      ]
     },
     "metadata": {},
     "output_type": "display_data"
    }
   ],
   "source": [
    "a = c(TRUE,FALSE)\n",
    "b = c(FALSE,FALSE)\n",
    "a|b"
   ]
  },
  {
   "cell_type": "code",
   "execution_count": 68,
   "metadata": {},
   "outputs": [
    {
     "data": {
      "text/html": [
       "TRUE"
      ],
      "text/latex": [
       "TRUE"
      ],
      "text/markdown": [
       "TRUE"
      ],
      "text/plain": [
       "[1] TRUE"
      ]
     },
     "metadata": {},
     "output_type": "display_data"
    },
    {
     "data": {
      "text/html": [
       "<ol class=list-inline>\n",
       "\t<li>TRUE</li>\n",
       "\t<li>FALSE</li>\n",
       "</ol>\n"
      ],
      "text/latex": [
       "\\begin{enumerate*}\n",
       "\\item TRUE\n",
       "\\item FALSE\n",
       "\\end{enumerate*}\n"
      ],
      "text/markdown": [
       "1. TRUE\n",
       "2. FALSE\n",
       "\n",
       "\n"
      ],
      "text/plain": [
       "[1]  TRUE FALSE"
      ]
     },
     "metadata": {},
     "output_type": "display_data"
    }
   ],
   "source": [
    "a||b\n",
    "xor(a,b)"
   ]
  },
  {
   "cell_type": "markdown",
   "metadata": {},
   "source": [
    "There are a large number of functions that test to determine the type of a variable. For example the is.numeric function can determine if a variable is numeric:\n"
   ]
  },
  {
   "cell_type": "code",
   "execution_count": 70,
   "metadata": {},
   "outputs": [
    {
     "data": {
      "text/html": [
       "TRUE"
      ],
      "text/latex": [
       "TRUE"
      ],
      "text/markdown": [
       "TRUE"
      ],
      "text/plain": [
       "[1] TRUE"
      ]
     },
     "metadata": {},
     "output_type": "display_data"
    },
    {
     "data": {
      "text/html": [
       "FALSE"
      ],
      "text/latex": [
       "FALSE"
      ],
      "text/markdown": [
       "FALSE"
      ],
      "text/plain": [
       "[1] FALSE"
      ]
     },
     "metadata": {},
     "output_type": "display_data"
    }
   ],
   "source": [
    "a = c(1,2,3)\n",
    "is.numeric(a)\n",
    "is.factor(a)"
   ]
  },
  {
   "cell_type": "markdown",
   "metadata": {},
   "source": [
    "# 2.2. Tables\n",
    "Another common way to store information is in a table. Here we look at how to define both one way and two way tables. We only look at how to create and define tables."
   ]
  },
  {
   "cell_type": "markdown",
   "metadata": {},
   "source": [
    "# 2.2.1. One Way Tables\n",
    "The first example is for a one way table. One way tables are not the most interesting example, but it is a good place to start. One way to create a table is using the table command. The arguments it takes is a vector of factors, and it calculates the frequency that each factor occurs. Here is an example of how to create a one way table:"
   ]
  },
  {
   "cell_type": "code",
   "execution_count": 71,
   "metadata": {},
   "outputs": [
    {
     "data": {
      "text/plain": [
       "a\n",
       "A B C \n",
       "4 3 2 "
      ]
     },
     "metadata": {},
     "output_type": "display_data"
    }
   ],
   "source": [
    "a <- factor(c(\"A\",\"A\",\"B\",\"A\",\"B\",\"B\",\"C\",\"A\",\"C\"))\n",
    "results <- table(a)\n",
    "results"
   ]
  },
  {
   "cell_type": "code",
   "execution_count": 72,
   "metadata": {},
   "outputs": [
    {
     "data": {
      "text/html": [
       "<dl>\n",
       "\t<dt>$dim</dt>\n",
       "\t\t<dd>3</dd>\n",
       "\t<dt>$dimnames</dt>\n",
       "\t\t<dd><strong>$a</strong> = <ol class=list-inline>\n",
       "\t<li>'A'</li>\n",
       "\t<li>'B'</li>\n",
       "\t<li>'C'</li>\n",
       "</ol>\n",
       "</dd>\n",
       "\t<dt>$class</dt>\n",
       "\t\t<dd>'table'</dd>\n",
       "</dl>\n"
      ],
      "text/latex": [
       "\\begin{description}\n",
       "\\item[\\$dim] 3\n",
       "\\item[\\$dimnames] \\textbf{\\$a} = \\begin{enumerate*}\n",
       "\\item 'A'\n",
       "\\item 'B'\n",
       "\\item 'C'\n",
       "\\end{enumerate*}\n",
       "\n",
       "\\item[\\$class] 'table'\n",
       "\\end{description}\n"
      ],
      "text/markdown": [
       "$dim\n",
       ":   3\n",
       "$dimnames\n",
       ":   **$a** = 1. 'A'\n",
       "2. 'B'\n",
       "3. 'C'\n",
       "\n",
       "\n",
       "\n",
       "$class\n",
       ":   'table'\n",
       "\n",
       "\n"
      ],
      "text/plain": [
       "$dim\n",
       "[1] 3\n",
       "\n",
       "$dimnames\n",
       "$dimnames$a\n",
       "[1] \"A\" \"B\" \"C\"\n",
       "\n",
       "\n",
       "$class\n",
       "[1] \"table\"\n"
      ]
     },
     "metadata": {},
     "output_type": "display_data"
    }
   ],
   "source": [
    "attributes(results)"
   ]
  },
  {
   "cell_type": "code",
   "execution_count": 73,
   "metadata": {},
   "outputs": [
    {
     "data": {
      "text/plain": [
       "Number of cases in table: 9 \n",
       "Number of factors: 1 "
      ]
     },
     "metadata": {},
     "output_type": "display_data"
    }
   ],
   "source": [
    "summary(results)"
   ]
  },
  {
   "cell_type": "markdown",
   "metadata": {},
   "source": [
    "If you know the number of occurrences for each factor then it is possible to create the table directly, but the process is, unfortunately, a bit more convoluted. There is an easier way to define one-way tables (a table with one row), but it does not extend easily to two-way tables (tables with more than one row). You must first create a matrix of numbers. A matrix is like a vector in that it is a list of numbers, but it is different in that you can have both rows and columns of numbers. For example, in our example above the number of occurrences of “A” is 4, the number of occurrences of “B” is 3, and the number of occurrences of “C” is 2. We will create one row of numbers. The first column contains a 4, the second column contains a 3, and the third column contains a 2:\n"
   ]
  },
  {
   "cell_type": "code",
   "execution_count": 74,
   "metadata": {},
   "outputs": [
    {
     "data": {
      "text/html": [
       "<table>\n",
       "<tbody>\n",
       "\t<tr><td>4</td><td>3</td><td>2</td></tr>\n",
       "</tbody>\n",
       "</table>\n"
      ],
      "text/latex": [
       "\\begin{tabular}{lll}\n",
       "\t 4 & 3 & 2\\\\\n",
       "\\end{tabular}\n"
      ],
      "text/markdown": [
       "\n",
       "| 4 | 3 | 2 |\n",
       "\n"
      ],
      "text/plain": [
       "     [,1] [,2] [,3]\n",
       "[1,] 4    3    2   "
      ]
     },
     "metadata": {},
     "output_type": "display_data"
    }
   ],
   "source": [
    "occur <- matrix(c(4,3,2),ncol=3,byrow=TRUE)\n",
    "occur"
   ]
  },
  {
   "cell_type": "markdown",
   "metadata": {},
   "source": [
    "At this point the variable “occur” is a matrix with one row and three columns of numbers. To dress it up and use it as a table we would like to give it labels for each columns just like in the previous example. Once that is done we convert the matrix to a table using the as.table command:"
   ]
  },
  {
   "cell_type": "code",
   "execution_count": 75,
   "metadata": {},
   "outputs": [
    {
     "data": {
      "text/html": [
       "<table>\n",
       "<thead><tr><th scope=col>A</th><th scope=col>B</th><th scope=col>C</th></tr></thead>\n",
       "<tbody>\n",
       "\t<tr><td>4</td><td>3</td><td>2</td></tr>\n",
       "</tbody>\n",
       "</table>\n"
      ],
      "text/latex": [
       "\\begin{tabular}{lll}\n",
       " A & B & C\\\\\n",
       "\\hline\n",
       "\t 4 & 3 & 2\\\\\n",
       "\\end{tabular}\n"
      ],
      "text/markdown": [
       "\n",
       "| A | B | C |\n",
       "|---|---|---|\n",
       "| 4 | 3 | 2 |\n",
       "\n"
      ],
      "text/plain": [
       "     A B C\n",
       "[1,] 4 3 2"
      ]
     },
     "metadata": {},
     "output_type": "display_data"
    }
   ],
   "source": [
    "colnames(occur) <- c(\"A\",\"B\",\"C\")\n",
    "occur"
   ]
  },
  {
   "cell_type": "code",
   "execution_count": 76,
   "metadata": {},
   "outputs": [
    {
     "data": {
      "text/plain": [
       "  A B C\n",
       "A 4 3 2"
      ]
     },
     "metadata": {},
     "output_type": "display_data"
    }
   ],
   "source": [
    "occur <- as.table(occur)\n",
    "occur"
   ]
  },
  {
   "cell_type": "code",
   "execution_count": 77,
   "metadata": {},
   "outputs": [
    {
     "data": {
      "text/html": [
       "<dl>\n",
       "\t<dt>$dim</dt>\n",
       "\t\t<dd><ol class=list-inline>\n",
       "\t<li>1</li>\n",
       "\t<li>3</li>\n",
       "</ol>\n",
       "</dd>\n",
       "\t<dt>$dimnames</dt>\n",
       "\t\t<dd><ol>\n",
       "\t<li>'A'</li>\n",
       "\t<li><ol class=list-inline>\n",
       "\t<li>'A'</li>\n",
       "\t<li>'B'</li>\n",
       "\t<li>'C'</li>\n",
       "</ol>\n",
       "</li>\n",
       "</ol>\n",
       "</dd>\n",
       "\t<dt>$class</dt>\n",
       "\t\t<dd>'table'</dd>\n",
       "</dl>\n"
      ],
      "text/latex": [
       "\\begin{description}\n",
       "\\item[\\$dim] \\begin{enumerate*}\n",
       "\\item 1\n",
       "\\item 3\n",
       "\\end{enumerate*}\n",
       "\n",
       "\\item[\\$dimnames] \\begin{enumerate}\n",
       "\\item 'A'\n",
       "\\item \\begin{enumerate*}\n",
       "\\item 'A'\n",
       "\\item 'B'\n",
       "\\item 'C'\n",
       "\\end{enumerate*}\n",
       "\n",
       "\\end{enumerate}\n",
       "\n",
       "\\item[\\$class] 'table'\n",
       "\\end{description}\n"
      ],
      "text/markdown": [
       "$dim\n",
       ":   1. 1\n",
       "2. 3\n",
       "\n",
       "\n",
       "\n",
       "$dimnames\n",
       ":   1. 'A'\n",
       "2. 1. 'A'\n",
       "2. 'B'\n",
       "3. 'C'\n",
       "\n",
       "\n",
       "\n",
       "\n",
       "\n",
       "\n",
       "$class\n",
       ":   'table'\n",
       "\n",
       "\n"
      ],
      "text/plain": [
       "$dim\n",
       "[1] 1 3\n",
       "\n",
       "$dimnames\n",
       "$dimnames[[1]]\n",
       "[1] \"A\"\n",
       "\n",
       "$dimnames[[2]]\n",
       "[1] \"A\" \"B\" \"C\"\n",
       "\n",
       "\n",
       "$class\n",
       "[1] \"table\"\n"
      ]
     },
     "metadata": {},
     "output_type": "display_data"
    }
   ],
   "source": [
    "attributes(occur)"
   ]
  },
  {
   "cell_type": "markdown",
   "metadata": {},
   "source": [
    "# 2.2.2. Two Way Tables\n",
    "If you want to add rows to your table just add another vector to the argument of the table command. In the example below we have two questions. In the first question the responses are labeled “Never,” “Sometimes,” or “Always.” In the second question the responses are labeled “Yes,” “No,” or “Maybe.” The set of vectors “a,” and “b,” contain the response for each measurement. The third item in “a” is how the third person responded to the first question, and the third item in “b” is how the third person responded to the second question.\n"
   ]
  },
  {
   "cell_type": "code",
   "execution_count": 78,
   "metadata": {},
   "outputs": [
    {
     "data": {
      "text/plain": [
       "           b\n",
       "a           Maybe No Yes\n",
       "  Always        2  0   0\n",
       "  Never         0  1   1\n",
       "  Sometimes     2  1   1"
      ]
     },
     "metadata": {},
     "output_type": "display_data"
    }
   ],
   "source": [
    "a <- c(\"Sometimes\",\"Sometimes\",\"Never\",\"Always\",\"Always\",\"Sometimes\",\"Sometimes\",\"Never\")\n",
    "b <- c(\"Maybe\",\"Maybe\",\"Yes\",\"Maybe\",\"Maybe\",\"No\",\"Yes\",\"No\")\n",
    "results <- table(a,b)\n",
    "results"
   ]
  },
  {
   "cell_type": "markdown",
   "metadata": {},
   "source": [
    "The table command allows us to do a very quick calculation, and we can immediately see that two people who said “Maybe” to the first question also said “Sometimes” to the second question.\n",
    "\n",
    "\n",
    "Just as in the case with one-way tables it is possible to manually enter two way tables. The procedure is exactly the same as above except that we now have more than one row. We give a brief example below to demonstrate how to enter a two-way table that includes breakdown of a group of people by both their gender and whether or not they smoke. You enter all of the data as one long list but tell R to break it up into some number of columns:"
   ]
  },
  {
   "cell_type": "code",
   "execution_count": 79,
   "metadata": {},
   "outputs": [
    {
     "data": {
      "text/plain": [
       "       smoke nosmoke\n",
       "male      70     120\n",
       "female    65     140"
      ]
     },
     "metadata": {},
     "output_type": "display_data"
    }
   ],
   "source": [
    "sexsmoke<-matrix(c(70,120,65,140),ncol=2,byrow=TRUE)\n",
    "rownames(sexsmoke)<-c(\"male\",\"female\")\n",
    "colnames(sexsmoke)<-c(\"smoke\",\"nosmoke\")\n",
    "sexsmoke <- as.table(sexsmoke)\n",
    "sexsmoke"
   ]
  },
  {
   "cell_type": "markdown",
   "metadata": {},
   "source": [
    "The matrix command creates a two by two matrix. The byrow=TRUE option indicates that the numbers are filled in across the rows first, and the ncols=2 indicates that there are two columns."
   ]
  },
  {
   "cell_type": "markdown",
   "metadata": {},
   "source": [
    "3.Calling a function\n",
    "---------\n",
    "\n",
    "The general form for calling R functions is"
   ]
  },
  {
   "cell_type": "code",
   "execution_count": 8,
   "metadata": {
    "collapsed": true,
    "eval": false
   },
   "outputs": [],
   "source": [
    "## FunctionName(arg.1 = value.1, arg.2 = value.2, ..., arg.n = value.n)"
   ]
  },
  {
   "cell_type": "markdown",
   "metadata": {},
   "source": [
    "Arguments can be matched by name; unnamed arguments will be matched by position.\n",
    "\n",
    "Assignment\n",
    "----------\n",
    "\n",
    "Values can be assigned names and used in subsequent operations\n",
    "\n",
    "-   The `<-` operator (less than followed by a dash) is used to save\n",
    "    values\n",
    "-   The name on the left gets the value on the right."
   ]
  },
  {
   "cell_type": "code",
   "execution_count": 9,
   "metadata": {},
   "outputs": [
    {
     "data": {
      "text/html": [
       "7"
      ],
      "text/latex": [
       "7"
      ],
      "text/markdown": [
       "7"
      ],
      "text/plain": [
       "[1] 7"
      ]
     },
     "metadata": {},
     "output_type": "display_data"
    }
   ],
   "source": [
    "sqrt(49) ## calculate square root of 49; result is not stored anywhere\n",
    "x <- sqrt(49) # assign result to a variable named x"
   ]
  },
  {
   "cell_type": "markdown",
   "metadata": {},
   "source": [
    "Names should start with a letter, and contain only letters, numbers, underscores, and periods."
   ]
  },
  {
   "cell_type": "markdown",
   "metadata": {},
   "source": [
    "Asking R for help\n",
    "---------------------\n",
    "\n",
    "You can ask R for help using the `help` function, or the `?` shortcut."
   ]
  },
  {
   "cell_type": "code",
   "execution_count": null,
   "metadata": {
    "collapsed": true
   },
   "outputs": [],
   "source": [
    "help(help)"
   ]
  },
  {
   "cell_type": "markdown",
   "metadata": {},
   "source": [
    "The `help` function can be used to look up the documentation for a function, or\n",
    "to look up the documentation to a package. We can learn how to use the `stats`\n",
    "package by reading its documentation like this:"
   ]
  },
  {
   "cell_type": "code",
   "execution_count": null,
   "metadata": {
    "collapsed": true,
    "eval": false,
    "lines_to_next_cell": 2
   },
   "outputs": [],
   "source": [
    "help(package = \"stats\")"
   ]
  },
  {
   "cell_type": "markdown",
   "metadata": {},
   "source": [
    "Loading the data into R\n",
    "===================\n",
    "\n",
    "R has data reading functionality built-in -- see e.g.,\n",
    "`help(read.table)`. However, faster and more robust tools are\n",
    "available, and so to make things easier on ourselves we will use a\n",
    "*contributed package* called `readr` instead. This requires that we\n",
    "learn a little bit about packages in R.\n",
    "\n",
    "Installing and using R packages\n",
    "----------------------------------------------------\n",
    "\n",
    "A large number of contributed packages are available. If you are\n",
    "looking for a package for a specific task,\n",
    "https://cran.r-project.org/web/views/ and https://r-pkg.org are good\n",
    "places to start.\n",
    "\n",
    "You can install a package in R using the `install.packages()`\n",
    "function. Once a package is installed you may use the `library`\n",
    "function to attach it so that it can be used."
   ]
  },
  {
   "cell_type": "code",
   "execution_count": null,
   "metadata": {
    "collapsed": true
   },
   "outputs": [],
   "source": []
  },
  {
   "cell_type": "markdown",
   "metadata": {},
   "source": [
    "Some common file types\n",
    "-----------------------------\n",
    "\n",
    "In order to read data from a file, you have to know what kind of file\n",
    "it is. The table below lists functions that can import data from\n",
    "common plain-text formats.\n",
    "\n",
    "| Data Type                 | Function        |\n",
    "| ------------------------- | --------------- |\n",
    "| comma separated           | `read_csv()`    |\n",
    "| tab separated             | `read_delim()`  |\n",
    "| other delimited formats   | `read_table()`  |\n",
    "| fixed width               | `read_fwf()`    |\n",
    "\n",
    "**Note** You may be confused by the existence of similar functions,\n",
    "e.g., `read.csv` and `read.delim`. These are legacy functions that\n",
    "tend to be slower and less robust than the `readr` functions. One way\n",
    "to tell them apart is that the faster more robust versions use\n",
    "underscores in their names (e.g., `read_csv`) while the older\n",
    "functions us dots (e.g., `read.csv`). My advice is to use the more\n",
    "robust newer versions, i.e., the ones with underscores.\n"
   ]
  },
  {
   "cell_type": "markdown",
   "metadata": {},
   "source": [
    "Exercise 1: Reading the NYC Flights 2013 data.\n",
    "---------------------------------------\n",
    "This data is from R package named nycflights13. You need to install the package nycflights13. Then you need to call libraries "
   ]
  },
  {
   "cell_type": "code",
   "execution_count": 4,
   "metadata": {
    "collapsed": true
   },
   "outputs": [],
   "source": [
    "country.code <- 'us'  # use yours\n",
    "url.pattern <- 'https://'  # use http if you want\n",
    "repo.data.frame <- subset(getCRANmirrors(), CountryCode == country.code & grepl(url.pattern, URL))\n",
    "options(repos = repo.data.frame$URL)"
   ]
  },
  {
   "cell_type": "code",
   "execution_count": null,
   "metadata": {
    "collapsed": true
   },
   "outputs": [],
   "source": [
    "install.packages(\"tidyverse\")"
   ]
  },
  {
   "cell_type": "code",
   "execution_count": null,
   "metadata": {
    "collapsed": true
   },
   "outputs": [],
   "source": [
    "install.packages(\"nycflights13\")"
   ]
  },
  {
   "cell_type": "code",
   "execution_count": null,
   "metadata": {
    "collapsed": true
   },
   "outputs": [],
   "source": [
    "library(nycflights13)\n",
    "library(tidyvers)"
   ]
  },
  {
   "cell_type": "markdown",
   "metadata": {},
   "source": [
    "To explore the basic data manipulation verbs of dplyr, we’ll use nycflights13::flights. This data frame contains all 336,776 flights that departed from New York City in 2013. The data comes from the US Bureau of Transportation Statistics, and is documented in ?flights.\n",
    "\n",
    "1. Install the packaes nycflights13 and tidyverse\n",
    "\n",
    "2. Then call the lirbraries: nycflights13 and tidyverse\n",
    "3. nycflights13::flights, then you'll see the following tibble(a type of      dataframe)"
   ]
  },
  {
   "cell_type": "code",
   "execution_count": 8,
   "metadata": {
    "collapsed": true
   },
   "outputs": [],
   "source": [
    "#> # A tibble: 336,776 x 19\n",
    "#>    year month   day dep_time sched_dep_time dep_delay arr_time\n",
    "#>   <int> <int> <int>    <int>          <int>     <dbl>    <int>\n",
    "#> 1  2013     1     1      517            515         2      830\n",
    "#> 2  2013     1     1      533            529         4      850\n",
    "#> 3  2013     1     1      542            540         2      923\n",
    "#> 4  2013     1     1      544            545        -1     1004\n",
    "#> 5  2013     1     1      554            600        -6      812\n",
    "#> 6  2013     1     1      554            558        -4      740\n",
    "#> # … with 3.368e+05 more rows, and 12 more variables: sched_arr_time <int>,\n",
    "#> #   arr_delay <dbl>, carrier <chr>, flight <int>, tailnum <chr>,\n",
    "#> #   origin <chr>, dest <chr>, air_time <dbl>, distance <dbl>, hour <dbl>,\n",
    "#> #   minute <dbl>, time_hour <dttm>"
   ]
  },
  {
   "cell_type": "markdown",
   "metadata": {},
   "source": [
    "You might also have noticed the row of three (or four) letter abbreviations under the column names. These describe the type of each variable:\n",
    "\n",
    "- int stands for integers.\n",
    "\n",
    "- dbl stands for doubles, or real numbers.\n",
    "\n",
    "- chr stands for character vectors, or strings.\n",
    "\n",
    "- dttm stands for date-times (a date + a time)."
   ]
  },
  {
   "cell_type": "markdown",
   "metadata": {},
   "source": [
    "Exercise 1 solution<span class=\"tag\" data-tag-name=\"prototype\"></span>\n",
    "----------------------------------------------------------------------"
   ]
  },
  {
   "cell_type": "code",
   "execution_count": null,
   "metadata": {
    "collapsed": true,
    "message": false,
    "purl": false,
    "results": false
   },
   "outputs": [],
   "source": [
    "## read ?read_csv"
   ]
  },
  {
   "cell_type": "markdown",
   "metadata": {},
   "source": [
    "5.1 Use of filter()\n",
    "=======================\n",
    "Let us assume that we need to find the flights that departs on January 1 and we can do this by using filter(flights, month == 1, day == 1)"
   ]
  },
  {
   "cell_type": "code",
   "execution_count": null,
   "metadata": {
    "collapsed": true
   },
   "outputs": [],
   "source": [
    "filter(flights, month == 1, day == 1)\n",
    "#> # A tibble: 842 x 19\n",
    "#>    year month   day dep_time sched_dep_time dep_delay arr_time\n",
    "#>   <int> <int> <int>    <int>          <int>     <dbl>    <int>\n",
    "#> 1  2013     1     1      517            515         2      830\n",
    "#> 2  2013     1     1      533            529         4      850\n",
    "#> 3  2013     1     1      542            540         2      923\n",
    "#> 4  2013     1     1      544            545        -1     1004\n",
    "#> 5  2013     1     1      554            600        -6      812\n",
    "#> 6  2013     1     1      554            558        -4      740\n",
    "#> # … with 836 more rows, and 12 more variables: sched_arr_time <int>,\n",
    "#> #   arr_delay <dbl>, carrier <chr>, flight <int>, tailnum <chr>,\n",
    "#> #   origin <chr>, dest <chr>, air_time <dbl>, distance <dbl>, hour <dbl>,\n",
    "#> #   minute <dbl>, time_hour <dttm>"
   ]
  },
  {
   "cell_type": "markdown",
   "metadata": {},
   "source": [
    "When you run that line of code, dplyr executes the filtering operation and returns a new data frame. dplyr functions never modify their inputs, so if you want to save the result, you’ll need to use the assignment operator, <-:"
   ]
  },
  {
   "cell_type": "code",
   "execution_count": null,
   "metadata": {
    "collapsed": true
   },
   "outputs": [],
   "source": [
    "jan1 <- filter(flights, month == 1, day == 1)"
   ]
  },
  {
   "cell_type": "markdown",
   "metadata": {},
   "source": [
    "You can find any flights that departs on any day from NYC in 2013"
   ]
  },
  {
   "cell_type": "code",
   "execution_count": null,
   "metadata": {
    "collapsed": true
   },
   "outputs": [],
   "source": [
    "jan1\n",
    "# A tibble: 842 x 19\n",
    "    year month   day dep_time sched_dep_time dep_delay arr_time\n",
    "   <int> <int> <int>    <int>          <int>     <dbl>    <int>\n",
    " 1  2013     1     1      517            515         2      830\n",
    " 2  2013     1     1      533            529         4      850\n",
    " 3  2013     1     1      542            540         2      923\n",
    " 4  2013     1     1      544            545        -1     1004\n",
    " 5  2013     1     1      554            600        -6      812\n",
    " 6  2013     1     1      554            558        -4      740\n",
    " 7  2013     1     1      555            600        -5      913\n",
    " 8  2013     1     1      557            600        -3      709\n",
    " 9  2013     1     1      557            600        -3      838\n",
    "10  2013     1     1      558            600        -2      753\n",
    "# ... with 832 more rows, and 12 more variables:\n",
    "#   sched_arr_time <int>, arr_delay <dbl>, carrier <chr>,\n",
    "#   flight <int>, tailnum <chr>, origin <chr>, dest <chr>,\n",
    "#   air_time <dbl>, distance <dbl>, hour <dbl>, minute <dbl>,\n",
    "#   time_hour <dttm>"
   ]
  },
  {
   "cell_type": "code",
   "execution_count": null,
   "metadata": {
    "collapsed": true
   },
   "outputs": [],
   "source": [
    "dec25 <- filter(flights, month == 12, day == 25)\n",
    "dec25\n",
    "#> # A tibble: 719 x 19\n",
    "#>    year month   day dep_time sched_dep_time dep_delay arr_time\n",
    "#>   <int> <int> <int>    <int>          <int>     <dbl>    <int>\n",
    "#> 1  2013    12    25      456            500        -4      649\n",
    "#> 2  2013    12    25      524            515         9      805\n",
    "#> 3  2013    12    25      542            540         2      832\n",
    "#> 4  2013    12    25      546            550        -4     1022\n",
    "#> 5  2013    12    25      556            600        -4      730\n",
    "#> 6  2013    12    25      557            600        -3      743\n",
    "#> # … with 713 more rows, and 12 more variables: sched_arr_time <int>,\n",
    "#> #   arr_delay <dbl>, carrier <chr>, flight <int>, tailnum <chr>,\n",
    "#> #   origin <chr>, dest <chr>, air_time <dbl>, distance <dbl>, hour <dbl>,\n",
    "#> #   minute <dbl>, time_hour <dttm>"
   ]
  },
  {
   "cell_type": "markdown",
   "metadata": {},
   "source": [
    "# 2 Exercises\n",
    "Find all flights that\n",
    "\n",
    "- Had an arrival delay of two or more hours\n",
    "- Flew to Houston (IAH or HOU)\n",
    "- Were operated by United, American, or Delta\n",
    "- Departed in summer (July, August, and September)\n",
    "- Arrived more than two hours late, but didn’t leave late\n",
    "- Were delayed by at least an hour, but made up over 30 minutes in flight\n",
    "- Departed between midnight and 6am (inclusive)\n",
    "\n",
    "\n",
    "Another useful dplyr filtering helper is between(). \n",
    "- What does it do? Can you use it to simplify the code needed to answer the previous challenges?\n",
    "\n",
    "- How many flights have a missing dep_time? What other variables are missing? What might these rows represent?\n",
    "\n",
    "- Why is NA ^ 0 not missing? Why is NA | TRUE not missing? Why is FALSE & NA not missing? Can you figure out the general rule? (NA * 0 is a tricky counterexample!)"
   ]
  },
  {
   "cell_type": "markdown",
   "metadata": {},
   "source": [
    " # 5.2 Arrange rows with arrange()\n",
    " arrange() works similarly to filter() except that instead of selecting rows, it changes their order. It takes a data frame and a set of column names (or more complicated expressions) to order by. If you provide more than one column name, each additional column will be used to break ties in the values of preceding columns:"
   ]
  },
  {
   "cell_type": "code",
   "execution_count": null,
   "metadata": {
    "collapsed": true,
    "lines_to_next_cell": 2
   },
   "outputs": [],
   "source": [
    "arrange(flights, year, month, day)\n",
    "#> # A tibble: 336,776 x 19\n",
    "#>    year month   day dep_time sched_dep_time dep_delay arr_time\n",
    "#>   <int> <int> <int>    <int>          <int>     <dbl>    <int>\n",
    "#> 1  2013     1     1      517            515         2      830\n",
    "#> 2  2013     1     1      533            529         4      850\n",
    "#> 3  2013     1     1      542            540         2      923\n",
    "#> 4  2013     1     1      544            545        -1     1004\n",
    "#> 5  2013     1     1      554            600        -6      812\n",
    "#> 6  2013     1     1      554            558        -4      740\n",
    "#> # … with 3.368e+05 more rows, and 12 more variables: sched_arr_time <int>,\n",
    "#> #   arr_delay <dbl>, carrier <chr>, flight <int>, tailnum <chr>,\n",
    "#> #   origin <chr>, dest <chr>, air_time <dbl>, distance <dbl>, hour <dbl>,\n",
    "#> #   minute <dbl>, time_hour <dttm>"
   ]
  },
  {
   "cell_type": "markdown",
   "metadata": {},
   "source": [
    "We can use desc() to re-order by a column in descending order:"
   ]
  },
  {
   "cell_type": "code",
   "execution_count": null,
   "metadata": {
    "collapsed": true
   },
   "outputs": [],
   "source": [
    "arrange(flights, desc(dep_delay))\n",
    "#> # A tibble: 336,776 x 19\n",
    "#>    year month   day dep_time sched_dep_time dep_delay arr_time\n",
    "#>   <int> <int> <int>    <int>          <int>     <dbl>    <int>\n",
    "#> 1  2013     1     9      641            900      1301     1242\n",
    "#> 2  2013     6    15     1432           1935      1137     1607\n",
    "#> 3  2013     1    10     1121           1635      1126     1239\n",
    "#> 4  2013     9    20     1139           1845      1014     1457\n",
    "#> 5  2013     7    22      845           1600      1005     1044\n",
    "#> 6  2013     4    10     1100           1900       960     1342\n",
    "#> # … with 3.368e+05 more rows, and 12 more variables: sched_arr_time <int>,\n",
    "#> #   arr_delay <dbl>, carrier <chr>, flight <int>, tailnum <chr>,\n",
    "#> #   origin <chr>, dest <chr>, air_time <dbl>, distance <dbl>, hour <dbl>,\n",
    "#> #   minute <dbl>, time_hour <dttm>"
   ]
  },
  {
   "cell_type": "markdown",
   "metadata": {
    "lines_to_next_cell": 2
   },
   "source": [
    "Missing values are always sorted at the end:"
   ]
  },
  {
   "cell_type": "markdown",
   "metadata": {},
   "source": [
    "# 3 Exercises\n",
    "- How could you use arrange() to sort all missing values to the start? (Hint: use is.na()).\n",
    "\n",
    "- Sort flights to find the most delayed flights. Find the flights that left earliest.\n",
    "\n",
    "- Sort flights to find the fastest flights.\n",
    "\n",
    "- Which flights travelled the longest? Which travelled the shortest?"
   ]
  },
  {
   "cell_type": "markdown",
   "metadata": {},
   "source": [
    "Other logical operators\n",
    "-----------------------\n",
    "\n",
    "In the previous example we used `==` to filter rows. Other relational\n",
    "and logical operators are listed below.\n",
    "\n",
    " | Operator  | Meaning                   | \n",
    " | ----------| --------------------------| \n",
    " | `==`      | equal to                  | \n",
    " | `!=`      | not equal to              | \n",
    " | `>`       | greater than              | \n",
    " | `>=`      | greater than or equal to  | \n",
    " | `<`       | less than                 | \n",
    " | `<=`      | less than or equal to     | \n",
    " | `%in%`    | contained in              | \n",
    "\n",
    "These operators may be combined with `&` (and) or `|` (or)."
   ]
  },
  {
   "cell_type": "markdown",
   "metadata": {},
   "source": [
    "# 5.4 Select columns with select()\n",
    "It’s not uncommon to get datasets with hundreds or even thousands of variables. In this case, the first challenge is often narrowing in on the variables you’re actually interested in. select() allows you to rapidly zoom in on a useful subset using operations based on the names of the variables.\n",
    "\n",
    "select() is not terribly useful with the flights data because we only have 19 variables, but you can still get the general idea:"
   ]
  },
  {
   "cell_type": "markdown",
   "metadata": {},
   "source": [
    "\n",
    "# Select columns by name"
   ]
  },
  {
   "cell_type": "code",
   "execution_count": null,
   "metadata": {
    "collapsed": true,
    "lines_to_next_cell": 0
   },
   "outputs": [],
   "source": [
    "select(flights, year, month, day)\n",
    "#> # A tibble: 336,776 x 3\n",
    "#>    year month   day\n",
    "#>   <int> <int> <int>\n",
    "#> 1  2013     1     1\n",
    "#> 2  2013     1     1\n",
    "#> 3  2013     1     1\n",
    "#> 4  2013     1     1\n",
    "#> 5  2013     1     1\n",
    "#> 6  2013     1     1\n",
    "#> # … with 3.368e+05 more rows\n",
    "\n",
    "\n",
    "# Select all columns between year and day (inclusive)\n",
    "select(flights, year:day)\n",
    "#> # A tibble: 336,776 x 3\n",
    "#>    year month   day\n",
    "#>   <int> <int> <int>\n",
    "#> 1  2013     1     1\n",
    "#> 2  2013     1     1\n",
    "#> 3  2013     1     1\n",
    "#> 4  2013     1     1\n",
    "#> 5  2013     1     1\n",
    "#> 6  2013     1     1\n",
    "#> # … with 3.368e+05 more rows\n",
    "\n",
    "# Select all columns except those from year to day (inclusive)\n",
    "select(flights, -(year:day))\n",
    "#> # A tibble: 336,776 x 16\n",
    "#>   dep_time sched_dep_time dep_delay arr_time sched_arr_time arr_delay\n",
    "#>      <int>          <int>     <dbl>    <int>          <int>     <dbl>\n",
    "#> 1      517            515         2      830            819        11\n",
    "#> 2      533            529         4      850            830        20\n",
    "#> 3      542            540         2      923            850        33\n",
    "#> 4      544            545        -1     1004           1022       -18\n",
    "#> 5      554            600        -6      812            837       -25\n",
    "#> 6      554            558        -4      740            728        12\n",
    "#> # … with 3.368e+05 more rows, and 10 more variables: carrier <chr>,\n",
    "#> #   flight <int>, tailnum <chr>, origin <chr>, dest <chr>, air_time <dbl>,\n",
    "#> #   distance <dbl>, hour <dbl>, minute <dbl>, time_hour <dttm>\n",
    "\n",
    "There are a number of helper functions you can use within select():\n",
    "\n",
    "starts_with(\"abc\"): matches names that begin with “abc”.\n",
    "\n",
    "ends_with(\"xyz\"): matches names that end with “xyz”.\n",
    "\n",
    "contains(\"ijk\"): matches names that contain “ijk”.\n",
    "\n",
    "matches(\"(.)\\\\1\"): selects variables that match a regular expression. This one matches any variables that contain repeated characters. You’ll learn more about regular expressions in strings.\n",
    "\n",
    "num_range(\"x\", 1:3): matches x1, x2 and x3.\n",
    "\n",
    "See ?select for more details.\n",
    "\n",
    "select() can be used to rename variables, but it’s rarely useful because it drops all of the variables not explicitly mentioned. Instead, use rename(), which is a variant of select() that keeps all the variables that aren’t explicitly mentioned:\n",
    "\n",
    "rename(flights, tail_num = tailnum)\n",
    "#> # A tibble: 336,776 x 19\n",
    "#>    year month   day dep_time sched_dep_time dep_delay arr_time\n",
    "#>   <int> <int> <int>    <int>          <int>     <dbl>    <int>\n",
    "#> 1  2013     1     1      517            515         2      830\n",
    "#> 2  2013     1     1      533            529         4      850\n",
    "#> 3  2013     1     1      542            540         2      923\n",
    "#> 4  2013     1     1      544            545        -1     1004\n",
    "#> 5  2013     1     1      554            600        -6      812\n",
    "#> 6  2013     1     1      554            558        -4      740\n",
    "#> # … with 3.368e+05 more rows, and 12 more variables: sched_arr_time <int>,\n",
    "#> #   arr_delay <dbl>, carrier <chr>, flight <int>, tail_num <chr>,\n",
    "#> #   origin <chr>, dest <chr>, air_time <dbl>, distance <dbl>, hour <dbl>,\n",
    "#> #   minute <dbl>, time_hour <dttm>\n",
    "Another option is to use select() in conjunction with the everything() helper. This is useful if you have a handful of variables you’d like to move to the start of the data frame.\n",
    "\n",
    "select(flights, time_hour, air_time, everything())\n",
    "#> # A tibble: 336,776 x 19\n",
    "#>   time_hour           air_time  year month   day dep_time sched_dep_time\n",
    "#>   <dttm>                 <dbl> <int> <int> <int>    <int>          <int>\n",
    "#> 1 2013-01-01 05:00:00      227  2013     1     1      517            515\n",
    "#> 2 2013-01-01 05:00:00      227  2013     1     1      533            529\n",
    "#> 3 2013-01-01 05:00:00      160  2013     1     1      542            540\n",
    "#> 4 2013-01-01 05:00:00      183  2013     1     1      544            545\n",
    "#> 5 2013-01-01 06:00:00      116  2013     1     1      554            600\n",
    "#> 6 2013-01-01 05:00:00      150  2013     1     1      554            558\n",
    "#> # … with 3.368e+05 more rows, and 12 more variables: dep_delay <dbl>,\n",
    "#> #   arr_time <int>, sched_arr_time <int>, arr_delay <dbl>, carrier <chr>,\n",
    "#> #   flight <int>, tailnum <chr>, origin <chr>, dest <chr>, distance <dbl>,\n",
    "#> #   hour <dbl>, minute <dbl>"
   ]
  },
  {
   "cell_type": "markdown",
   "metadata": {
    "collapsed": true
   },
   "source": [
    "# 4 Exercises\n",
    "Brainstorm as many ways as possible to select dep_time, dep_delay, arr_time, and arr_delay from flights.\n",
    "\n",
    "What happens if you include the name of a variable multiple times in a select() call?\n",
    "\n",
    "What does the one_of() function do? Why might it be helpful in conjunction with this vector?\n",
    "\n",
    "vars <- c(\"year\", \"month\", \"day\", \"dep_delay\", \"arr_delay\")\n",
    "\n",
    "\n",
    "Does the result of running the following code surprise you? How do the select helpers deal with case by default? How can you change that default?\n",
    "\n",
    "select(flights, contains(\"TIME\"))"
   ]
  },
  {
   "cell_type": "markdown",
   "metadata": {},
   "source": [
    "# 5.5 Add new variables with mutate()\n",
    "Besides selecting sets of existing columns, it’s often useful to add new columns that are functions of existing columns. That’s the job of mutate(). \n",
    "\n",
    "Mutate() always adds new columns at the end of your dataset so we’ll start by creating a narrower dataset so we can see the new variables. Remember that when you’re in RStudio, the easiest way to see all the columns is View().\n"
   ]
  },
  {
   "cell_type": "code",
   "execution_count": null,
   "metadata": {
    "collapsed": true,
    "lines_to_next_cell": 0
   },
   "outputs": [],
   "source": [
    "\n",
    "flights_sml <- select(flights, \n",
    "  year:day, \n",
    "  ends_with(\"delay\"), \n",
    "  distance, \n",
    "  air_time\n",
    ")\n",
    "mutate(flights_sml,\n",
    "  gain = dep_delay - arr_delay,\n",
    "  speed = distance / air_time * 60\n",
    ")\n",
    "#> # A tibble: 336,776 x 9\n",
    "#>    year month   day dep_delay arr_delay distance air_time  gain speed\n",
    "#>   <int> <int> <int>     <dbl>     <dbl>    <dbl>    <dbl> <dbl> <dbl>\n",
    "#> 1  2013     1     1         2        11     1400      227    -9  370.\n",
    "#> 2  2013     1     1         4        20     1416      227   -16  374.\n",
    "#> 3  2013     1     1         2        33     1089      160   -31  408.\n",
    "#> 4  2013     1     1        -1       -18     1576      183    17  517.\n",
    "#> 5  2013     1     1        -6       -25      762      116    19  394.\n",
    "#> 6  2013     1     1        -4        12      719      150   -16  288.\n",
    "#> # … with 3.368e+05 more rows\n",
    "Note that you can refer to columns that you’ve just created:\n",
    "\n",
    "mutate(flights_sml,\n",
    "  gain = dep_delay - arr_delay,\n",
    "  hours = air_time / 60,\n",
    "  gain_per_hour = gain / hours\n",
    ")\n",
    "#> # A tibble: 336,776 x 10\n",
    "#>    year month   day dep_delay arr_delay distance air_time  gain hours\n",
    "#>   <int> <int> <int>     <dbl>     <dbl>    <dbl>    <dbl> <dbl> <dbl>\n",
    "#> 1  2013     1     1         2        11     1400      227    -9  3.78\n",
    "#> 2  2013     1     1         4        20     1416      227   -16  3.78\n",
    "#> 3  2013     1     1         2        33     1089      160   -31  2.67\n",
    "#> 4  2013     1     1        -1       -18     1576      183    17  3.05\n",
    "#> 5  2013     1     1        -6       -25      762      116    19  1.93\n",
    "#> 6  2013     1     1        -4        12      719      150   -16  2.5 \n",
    "#> # … with 3.368e+05 more rows, and 1 more variable: gain_per_hour <dbl>\n",
    "If you only want to keep the new variables, use transmute():\n",
    "\n",
    "transmute(flights,\n",
    "  gain = dep_delay - arr_delay,\n",
    "  hours = air_time / 60,\n",
    "  gain_per_hour = gain / hours\n",
    ")\n",
    "#> # A tibble: 336,776 x 3\n",
    "#>    gain hours gain_per_hour\n",
    "#>   <dbl> <dbl>         <dbl>\n",
    "#> 1    -9  3.78         -2.38\n",
    "#> 2   -16  3.78         -4.23\n",
    "#> 3   -31  2.67        -11.6 \n",
    "#> 4    17  3.05          5.57\n",
    "#> 5    19  1.93          9.83\n",
    "#> 6   -16  2.5          -6.4 \n",
    "#> # … with 3.368e+05 more rows"
   ]
  },
  {
   "cell_type": "markdown",
   "metadata": {},
   "source": [
    "# 5.5.1 Useful creation functions\n",
    "\n",
    "There are many functions for creating new variables that you can use with mutate(). The key property is that the function must be vectorised: it must take a vector of values as input, return a vector with the same number of values as output. There’s no way to list every possible function that you might use, but here’s a selection of functions that are frequently useful:\n",
    "\n",
    "Arithmetic operators: +, -, *, /, ^. These are all vectorised, using the so called “recycling rules”. If one parameter is shorter than the other, it will be automatically extended to be the same length. This is most useful when one of the arguments is a single number: air_time / 60, hours * 60 + minute, etc.\n",
    "\n",
    "Arithmetic operators are also useful in conjunction with the aggregate functions you’ll learn about later. For example, x / sum(x) calculates the proportion of a total, and y - mean(y) computes the difference from the mean.\n",
    "\n",
    "Modular arithmetic: %/% (integer division) and %% (remainder), where x == y * (x %/% y) + (x %% y). Modular arithmetic is a handy tool because it allows you to break integers up into pieces. For example, in the flights dataset, you can compute hour and minute from dep_time with:\n"
   ]
  },
  {
   "cell_type": "code",
   "execution_count": null,
   "metadata": {
    "collapsed": true
   },
   "outputs": [],
   "source": [
    "transmute(flights,\n",
    "  dep_time,\n",
    "  hour = dep_time %/% 100,\n",
    "  minute = dep_time %% 100\n",
    ")\n",
    "#> # A tibble: 336,776 x 3\n",
    "#>   dep_time  hour minute\n",
    "#>      <int> <dbl>  <dbl>\n",
    "#> 1      517     5     17\n",
    "#> 2      533     5     33\n",
    "#> 3      542     5     42\n",
    "#> 4      544     5     44\n",
    "#> 5      554     5     54\n",
    "#> 6      554     5     54\n",
    "#> # … with 3.368e+05 more rows"
   ]
  },
  {
   "cell_type": "markdown",
   "metadata": {},
   "source": [
    "Logs: log(), log2(), log10(). Logarithms are an incredibly useful transformation for dealing with data that ranges across multiple orders of magnitude. They also convert multiplicative relationships to additive, a feature we’ll come back to in modelling.\n",
    "\n",
    "All else being equal, I recommend using log2() because it’s easy to interpret: a difference of 1 on the log scale corresponds to doubling on the original scale and a difference of -1 corresponds to halving.\n",
    "\n",
    "Offsets: lead() and lag() allow you to refer to leading or lagging values. This allows you to compute running differences (e.g. x - lag(x)) or find when values change (x != lag(x)). They are most useful in conjunction with group_by(), which you’ll learn about shortly.\n"
   ]
  },
  {
   "cell_type": "code",
   "execution_count": null,
   "metadata": {
    "collapsed": true
   },
   "outputs": [],
   "source": [
    "(x <- 1:10)\n",
    "#>  [1]  1  2  3  4  5  6  7  8  9 10\n",
    "lag(x)\n",
    "#>  [1] NA  1  2  3  4  5  6  7  8  9\n",
    "lead(x)\n",
    "#>  [1]  2  3  4  5  6  7  8  9 10 NA\n",
    "Cumulative and rolling aggregates: R provides functions for running sums, products, mins and maxes: cumsum(), cumprod(), cummin(), cummax(); and dplyr provides cummean() for cumulative means. If you need rolling aggregates (i.e. a sum computed over a rolling window), try the RcppRoll package.\n",
    "\n",
    "x\n",
    "#>  [1]  1  2  3  4  5  6  7  8  9 10\n",
    "cumsum(x)\n",
    "#>  [1]  1  3  6 10 15 21 28 36 45 55\n",
    "cummean(x)\n",
    "#>  [1] 1.0 1.5 2.0 2.5 3.0 3.5 4.0 4.5 5.0 5.5\n",
    "Logical comparisons, <, <=, >, >=, !=, and ==, which you learned about earlier. If you’re doing a complex sequence of logical operations it’s often a good idea to store the interim values in new variables so you can check that each step is working as expected.\n",
    "\n",
    "Ranking: there are a number of ranking functions, but you should start with min_rank(). It does the most usual type of ranking (e.g. 1st, 2nd, 2nd, 4th). The default gives smallest values the small ranks; use desc(x) to give the largest values the smallest ranks.\n"
   ]
  },
  {
   "cell_type": "code",
   "execution_count": null,
   "metadata": {
    "collapsed": true,
    "lines_to_next_cell": 2
   },
   "outputs": [],
   "source": [
    "y <- c(1, 2, 2, NA, 3, 4)\n",
    "min_rank(y)\n",
    "#> [1]  1  2  2 NA  4  5\n",
    "min_rank(desc(y))\n",
    "#> [1]  5  3  3 NA  2  1\n",
    "If min_rank() doesn’t do what you need, look at the variants row_number(), dense_rank(), percent_rank(), cume_dist(), ntile(). See their help pages for more details.\n",
    "\n",
    "row_number(y)\n",
    "#> [1]  1  2  3 NA  4  5\n",
    "dense_rank(y)\n",
    "#> [1]  1  2  2 NA  3  4\n",
    "percent_rank(y)\n",
    "#> [1] 0.00 0.25 0.25   NA 0.75 1.00\n",
    "cume_dist(y)\n",
    "#> [1] 0.2 0.6 0.6  NA 0.8 1.0"
   ]
  },
  {
   "cell_type": "markdown",
   "metadata": {},
   "source": [
    "# 5 Exercises\n",
    "- Currently dep_time and sched_dep_time are convenient to look at, but hard to compute with because they’re not really continuous numbers. Convert them to a more convenient representation of number of minutes since midnight.\n",
    "\n",
    "- Compare air_time with arr_time - dep_time. What do you expect to see? What do you see? What do you need to do to fix it?\n",
    "\n",
    "- Compare dep_time, sched_dep_time, and dep_delay. How would you expect those three numbers to be related?\n",
    "\n",
    "- Find the 10 most delayed flights using a ranking function. How do you want to handle ties? Carefully read the documentation for min_rank().\n",
    "\n",
    "- What does 1:3 + 1:10 return? Why?\n",
    "\n",
    "- What trigonometric functions does R provide?"
   ]
  },
  {
   "cell_type": "markdown",
   "metadata": {},
   "source": [
    "Plotting \n",
    "===================================\n",
    "\n",
    "It can be difficult to spot trends when looking at summary tables.\n",
    "Plotting the data makes it easier to identify interesting patterns.\n",
    "\n",
    "R has decent plotting tools built-in -- see e.g., `help(plot)`.\n",
    "However, To make things easier on ourselves we will use a *contributed\n",
    "package* called `ggplot2` instead."
   ]
  },
  {
   "cell_type": "code",
   "execution_count": null,
   "metadata": {
    "collapsed": true
   },
   "outputs": [],
   "source": [
    "## install.packages(\"ggplot2\")\n",
    "library(ggplot2)"
   ]
  },
  {
   "cell_type": "markdown",
   "metadata": {},
   "source": [
    "For quick and simple plots we can use the `qplot` function. For example,\n",
    "we can plot the how the flights are delayed by American Airlnes over different time like this:"
   ]
  },
  {
   "cell_type": "code",
   "execution_count": null,
   "metadata": {
    "collapsed": true
   },
   "outputs": [],
   "source": [
    "American <- filter(flights,carrier == 'AA')"
   ]
  },
  {
   "cell_type": "code",
   "execution_count": null,
   "metadata": {
    "collapsed": true
   },
   "outputs": [],
   "source": [
    "#flights delayed in every month\n",
    "qplot(x = month, y = dep_delay,\n",
    "      data = American)"
   ]
  },
  {
   "cell_type": "markdown",
   "metadata": {},
   "source": [
    "Interetingly there are usually some gender-atypical names, even for very strongly \n",
    "gendered names like \"Diana\". Splitting these trends out by Sex is very easy:"
   ]
  },
  {
   "cell_type": "code",
   "execution_count": null,
   "metadata": {
    "collapsed": true,
    "lines_to_next_cell": 2
   },
   "outputs": [],
   "source": [
    "#flights delayed in each day\n",
    "qplot(x = day, y = dep_delay,\n",
    "      data = American)"
   ]
  },
  {
   "cell_type": "markdown",
   "metadata": {},
   "source": [
    "Exercise <span class=\"tag\" data-tag-name=\"prototype\"></span>\n",
    "----------------------------------------------------------------------"
   ]
  },
  {
   "cell_type": "code",
   "execution_count": null,
   "metadata": {
    "collapsed": true
   },
   "outputs": [],
   "source": [
    "#use different colors for different destinations\n",
    "qplot(x = month, y = arr_delay, color = dest, data = American)"
   ]
  },
  {
   "cell_type": "code",
   "execution_count": null,
   "metadata": {
    "collapsed": true
   },
   "outputs": [],
   "source": [
    "# 4.  BONUS (Optional): Adust the plot to use lines instead of points."
   ]
  },
  {
   "cell_type": "code",
   "execution_count": null,
   "metadata": {
    "collapsed": true
   },
   "outputs": [],
   "source": [
    "qplot(x = month, y = arr_delay, color = dest, data = American, geom = \"line\")"
   ]
  },
  {
   "cell_type": "markdown",
   "metadata": {},
   "source": [
    "# saving the data you've worked on"
   ]
  },
  {
   "cell_type": "code",
   "execution_count": null,
   "metadata": {
    "collapsed": true
   },
   "outputs": [],
   "source": [
    "# write data to a .csv file\n",
    "write_csv(nycflights13::flights, \"flights.csv\")"
   ]
  },
  {
   "cell_type": "code",
   "execution_count": null,
   "metadata": {
    "collapsed": true
   },
   "outputs": [],
   "source": [
    "# write data to an R file\n",
    "write_rds(nycflights13::flights, \"flights.rds\")"
   ]
  },
  {
   "cell_type": "markdown",
   "metadata": {},
   "source": [
    "Saving and loading R workspaces\n",
    "-------------------------------\n",
    "\n",
    "In addition to importing individual datasets, R can save and load entire\n",
    "workspaces"
   ]
  },
  {
   "cell_type": "code",
   "execution_count": null,
   "metadata": {
    "collapsed": true
   },
   "outputs": [],
   "source": [
    "ls() # list objects in our workspace\n",
    "save.image(file=\"myWorkspace.RData\") # save workspace \n",
    "rm(list=ls()) # remove all objects from our workspace \n",
    "ls() # list stored objects to make sure they are deleted"
   ]
  },
  {
   "cell_type": "code",
   "execution_count": null,
   "metadata": {
    "collapsed": true,
    "lines_to_next_cell": 2
   },
   "outputs": [],
   "source": [
    "## Load the \"myWorkspace.RData\" file and check that it is restored\n",
    "load(\"myWorkspace.RData\") # load myWorkspace.RData\n",
    "ls() # list objects"
   ]
  },
  {
   "cell_type": "markdown",
   "metadata": {},
   "source": [
    "Wrap-up\n",
    "=======\n",
    "\n",
    "Help us make this workshop better!\n",
    "----------------------------------\n",
    "\n",
    "Please take a moment to fill out a very short feedback form. These\n",
    "workshops exist for you -- tell us what you need!\n",
    "<http://tinyurl.com/R-intro-feedback>\n",
    "\n",
    "Additional resources\n",
    "--------------------\n",
    "\n",
    "-   IQSS workshops:\n",
    "    <http://projects.iq.harvard.edu/rtc/filter_by/workshops>\n",
    "-   IQSS statistical consulting: <http://dss.iq.harvard.edu>\n",
    "-   Software (all free!):\n",
    "    -   R and R package download: <http://cran.r-project.org>\n",
    "    -   Rstudio download: <http://rstudio.org>\n",
    "    -   ESS (emacs R package): <http://ess.r-project.org/>\n",
    "-   Online tutorials\n",
    "    -   <http://www.codeschool.com/courses/try-r>\n",
    "    -   <http://www.datacamp.org>\n",
    "    -   <http://swirlstats.com/>\n",
    "    -   <http://r4ds.had.co.nz/>\n",
    "-   Getting help:\n",
    "    -   Documentation and tutorials:\n",
    "        <http://cran.r-project.org/other-docs.html>\n",
    "    -   Recommended R packages by topic:\n",
    "        <http://cran.r-project.org/web/views/>\n",
    "    -   Mailing list: <https://stat.ethz.ch/mailman/listinfo/r-help>\n",
    "    -   StackOverflow: <http://stackoverflow.com/questions/tagged/r>\n",
    "-   Coming from...\n",
    "    Stata\n",
    "    :   <http://www.princeton.edu/~otorres/RStata.pdf>\n",
    "    SAS/SPSS\n",
    "    :   <http://www.et.bs.ehu.es/~etptupaf/pub/R/RforSAS&SPSSusers.pdf>\n",
    "   matlab\n",
    "   :   <http://www.math.umaine.edu/~hiebeler/comp/matlabR.pdf>\n",
    "    Python\n",
    "    :   <http://mathesaurus.sourceforge.net/matlab-python-xref.pdf>"
   ]
  }
 ],
 "metadata": {
  "jupytext_formats": "ipynb,Rmd:rmarkdown,R:spin",
  "kernelspec": {
   "display_name": "R",
   "language": "R",
   "name": "ir"
  },
  "language_info": {
   "codemirror_mode": "r",
   "file_extension": ".r",
   "mimetype": "text/x-r-source",
   "name": "R",
   "pygments_lexer": "r",
   "version": "3.4.1"
  },
  "toc": {
   "base_numbering": 1,
   "nav_menu": {},
   "number_sections": true,
   "sideBar": true,
   "skip_h1_title": false,
   "title_cell": "Table of Contents",
   "title_sidebar": "Contents",
   "toc_cell": false,
   "toc_position": {},
   "toc_section_display": true,
   "toc_window_display": true
  }
 },
 "nbformat": 4,
 "nbformat_minor": 2
}
